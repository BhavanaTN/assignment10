{
 "cells": [
  {
   "cell_type": "markdown",
   "metadata": {},
   "source": [
    "1.Write a Python program which iterates the integers from 1 to 100. For multiples of three print \"Fizz\" instead of the number and for the multiples of five print \"Buzz\". For numbers which are multiples of both three and five print \"FizzBuzz\".\n"
   ]
  },
  {
   "cell_type": "code",
   "execution_count": 1,
   "metadata": {},
   "outputs": [
    {
     "name": "stdout",
     "output_type": "stream",
     "text": [
      "fizzbuzz\n",
      "1\n",
      "2\n",
      "fizz\n",
      "4\n",
      "buzz\n",
      "fizz\n",
      "7\n",
      "8\n",
      "fizz\n",
      "buzz\n",
      "11\n",
      "fizz\n",
      "13\n",
      "14\n",
      "fizzbuzz\n",
      "16\n",
      "17\n",
      "fizz\n",
      "19\n",
      "buzz\n",
      "fizz\n",
      "22\n",
      "23\n",
      "fizz\n",
      "buzz\n",
      "26\n",
      "fizz\n",
      "28\n",
      "29\n",
      "fizzbuzz\n",
      "31\n",
      "32\n",
      "fizz\n",
      "34\n",
      "buzz\n",
      "fizz\n",
      "37\n",
      "38\n",
      "fizz\n",
      "buzz\n",
      "41\n",
      "fizz\n",
      "43\n",
      "44\n",
      "fizzbuzz\n",
      "46\n",
      "47\n",
      "fizz\n",
      "49\n",
      "buzz\n",
      "fizz\n",
      "52\n",
      "53\n",
      "fizz\n",
      "buzz\n",
      "56\n",
      "fizz\n",
      "58\n",
      "59\n",
      "fizzbuzz\n",
      "61\n",
      "62\n",
      "fizz\n",
      "64\n",
      "buzz\n",
      "fizz\n",
      "67\n",
      "68\n",
      "fizz\n",
      "buzz\n",
      "71\n",
      "fizz\n",
      "73\n",
      "74\n",
      "fizzbuzz\n",
      "76\n",
      "77\n",
      "fizz\n",
      "79\n",
      "buzz\n",
      "fizz\n",
      "82\n",
      "83\n",
      "fizz\n",
      "buzz\n",
      "86\n",
      "fizz\n",
      "88\n",
      "89\n",
      "fizzbuzz\n",
      "91\n",
      "92\n",
      "fizz\n",
      "94\n",
      "buzz\n",
      "fizz\n",
      "97\n",
      "98\n",
      "fizz\n",
      "buzz\n"
     ]
    }
   ],
   "source": [
    "for fizzbuzz in range(101):\n",
    "    if fizzbuzz % 3 == 0 and fizzbuzz % 5 == 0:\n",
    "        print(\"fizzbuzz\")\n",
    "        continue\n",
    "    elif fizzbuzz % 3 == 0:\n",
    "        print(\"fizz\")\n",
    "        continue\n",
    "    elif fizzbuzz % 5 == 0:\n",
    "        print(\"buzz\")\n",
    "        continue\n",
    "    print(fizzbuzz)\n",
    "\t"
   ]
  },
  {
   "cell_type": "markdown",
   "metadata": {},
   "source": [
    "2.Write a Python program to remove consecutive duplicates from list."
   ]
  },
  {
   "cell_type": "code",
   "execution_count": 2,
   "metadata": {},
   "outputs": [
    {
     "name": "stdout",
     "output_type": "stream",
     "text": [
      "The original list is : [1, 4, 4, 4, 5, 6, 7, 4, 3, 3, 9, 5]\n",
      "The list after removing consecutive duplicates : [1, 4, 5, 6, 7, 4, 3, 9, 5]\n"
     ]
    }
   ],
   "source": [
    "from itertools import groupby  \n",
    "test_list = [1, 4, 4, 4, 5, 6, 7, 4, 3, 3, 9,5] \n",
    "print (\"The original list is : \" + str(test_list)) \n",
    "res = [i[0] for i in groupby(test_list)] \n",
    "print (\"The list after removing consecutive duplicates : \" +  str(res)) \n"
   ]
  },
  {
   "cell_type": "markdown",
   "metadata": {},
   "source": [
    "3. Write a python program to find unique element from a list.\n"
   ]
  },
  {
   "cell_type": "code",
   "execution_count": 3,
   "metadata": {},
   "outputs": [
    {
     "name": "stdout",
     "output_type": "stream",
     "text": [
      "Original List :  [10, 20, 30, 40, 20, 50, 60, 40]\n",
      "List of unique numbers :  [40, 10, 50, 20, 60, 30]\n"
     ]
    }
   ],
   "source": [
    "my_list = [10, 20, 30, 40, 20, 50, 60, 40]\n",
    "print(\"Original List : \",my_list)\n",
    "my_set = set(my_list)\n",
    "my_new_list = list(my_set)\n",
    "print(\"List of unique numbers : \",my_new_list)\n"
   ]
  },
  {
   "cell_type": "markdown",
   "metadata": {},
   "source": [
    "4.Write a function that checks whether a number is in a given range (inclusive of high and low )\n"
   ]
  },
  {
   "cell_type": "code",
   "execution_count": 4,
   "metadata": {},
   "outputs": [
    {
     "name": "stdout",
     "output_type": "stream",
     "text": [
      "Number is within the range\n"
     ]
    }
   ],
   "source": [
    "def ran_check(num,low,high):\n",
    "    for i in range(low,high+1):\n",
    "        if num==i:\n",
    "            print ('Number is within the range')\n",
    "            break\n",
    "    else :\n",
    "            print ('Number is out of range')\n",
    "ran_check(3,1,10)\n",
    "\n"
   ]
  },
  {
   "cell_type": "markdown",
   "metadata": {},
   "source": [
    "5.Write a Python function that accepts a string and calculates the number of upper case letters and lower case letters.\n",
    "#HINT: Two string methods that might prove useing .isupper() and.islower()\n"
   ]
  },
  {
   "cell_type": "code",
   "execution_count": 5,
   "metadata": {},
   "outputs": [
    {
     "name": "stdout",
     "output_type": "stream",
     "text": [
      "count of upper case characters in string is 4\n",
      "count of lower case characters in string is 33\n"
     ]
    }
   ],
   "source": [
    "def up_low(s):\n",
    "    ucount=0\n",
    "    lcount=0\n",
    "    for letter in s:\n",
    "            if str.isupper(letter):\n",
    "                ucount+=1\n",
    "            elif str.islower(letter):\n",
    "                lcount+=1\n",
    "    print('count of upper case characters in string is '+str(ucount))\n",
    "    print('count of lower case characters in string is '+str(lcount))\n",
    "up_low('Hello Mr. Rogers, how are you this fine Tuesday?')\n"
   ]
  }
 ],
 "metadata": {
  "kernelspec": {
   "display_name": "Python 3",
   "language": "python",
   "name": "python3"
  },
  "language_info": {
   "codemirror_mode": {
    "name": "ipython",
    "version": 3
   },
   "file_extension": ".py",
   "mimetype": "text/x-python",
   "name": "python",
   "nbconvert_exporter": "python",
   "pygments_lexer": "ipython3",
   "version": "3.7.6"
  }
 },
 "nbformat": 4,
 "nbformat_minor": 4
}
